{
 "cells": [
  {
   "cell_type": "markdown",
   "id": "45edf98a",
   "metadata": {},
   "source": [
    "# Write a Python class to implement pow(x, n)"
   ]
  },
  {
   "cell_type": "code",
   "execution_count": 1,
   "id": "c34c171c",
   "metadata": {},
   "outputs": [
    {
     "name": "stdout",
     "output_type": "stream",
     "text": [
      "100\n"
     ]
    }
   ],
   "source": [
    "class power:\n",
    "    def pow(self, x, n):\n",
    "        if x==0 or x==1 or n==1:\n",
    "            return x\n",
    "        if x==-1:\n",
    "            if n%2==0:\n",
    "                return 1\n",
    "            else:\n",
    "                return -1            \n",
    "        if n==0:\n",
    "            return 1        \n",
    "        if n<0:\n",
    "            return 1/se;f,pow(x,-n)\n",
    "        val = self.pow(x,n//2)\n",
    "        \n",
    "        if n%2==0:\n",
    "            return val*val        \n",
    "        return val*val*x\n",
    "    \n",
    "print(power().pow(10,2))"
   ]
  }
 ],
 "metadata": {
  "kernelspec": {
   "display_name": "Python 3 (ipykernel)",
   "language": "python",
   "name": "python3"
  },
  "language_info": {
   "codemirror_mode": {
    "name": "ipython",
    "version": 3
   },
   "file_extension": ".py",
   "mimetype": "text/x-python",
   "name": "python",
   "nbconvert_exporter": "python",
   "pygments_lexer": "ipython3",
   "version": "3.9.7"
  }
 },
 "nbformat": 4,
 "nbformat_minor": 5
}
